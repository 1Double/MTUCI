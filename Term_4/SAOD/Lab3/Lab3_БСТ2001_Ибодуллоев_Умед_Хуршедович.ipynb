{
 "cells": [
  {
   "cell_type": "markdown",
   "id": "f1150d69",
   "metadata": {},
   "source": [
    "# Лабораторная работа №3. Методы поиска подстроки в строке.\n",
    "# Выполнил студент группы БСТ2001 Ибодуллоев Умед Хуршедович"
   ]
  },
  {
   "cell_type": "markdown",
   "id": "3ee8c5c1-bf82-48d8-9e03-878168e703d7",
   "metadata": {
    "tags": []
   },
   "source": [
    "## Задание №1\n",
    "\n",
    "Реализовать методы поиска подстроки в строке. Добавить возможность ввода строки и подстроки с клавиатуры. Предусмотреть возможность существования пробела. Реализовать возможность выбора опции чувствительности или нечувствительности к регистру. Оценить время работы каждого алгоритма поиска и сравнить его со временем работы стандартной функции поиска, используемой в выбранном языке программирования."
   ]
  },
  {
   "cell_type": "markdown",
   "id": "bba7fcd3",
   "metadata": {
    "tags": []
   },
   "source": [
    "### Алгоритм Кнута-Морриса-Пратта"
   ]
  },
  {
   "cell_type": "code",
   "execution_count": 1,
   "id": "0cd7f74f",
   "metadata": {},
   "outputs": [],
   "source": [
    "def prefix(s):\n",
    "    v = [0]*len(s)\n",
    "    for i in range(1,len(s)):\n",
    "        k = v[i-1]\n",
    "        while k > 0 and s[k] != s[i]:\n",
    "            k = v[k-1]\n",
    "        if s[k] == s[i]:\n",
    "            k = k + 1\n",
    "        v[i] = k\n",
    "    return v\n",
    "\n",
    "def kmp(s, t):\n",
    "    index = -1\n",
    "    f = prefix(s)\n",
    "    k = 0\n",
    "    for i in range(len(t)):\n",
    "        while k > 0 and s[k] != t[i]:\n",
    "            k = f[k-1]\n",
    "        if s[k] == t[i]:\n",
    "            k = k + 1\n",
    "        if k == len(s):\n",
    "            index = i - len(s) + 1\n",
    "            break\n",
    "    return index"
   ]
  },
  {
   "cell_type": "markdown",
   "id": "9d59522a",
   "metadata": {
    "tags": []
   },
   "source": [
    "### Упрощенный Бойера-Мура"
   ]
  },
  {
   "cell_type": "code",
   "execution_count": 2,
   "id": "615b6ea7",
   "metadata": {},
   "outputs": [],
   "source": [
    "def bmPredCompil(x):\n",
    "    d = {}\n",
    "    lenX = len(x)\n",
    "    for i in range(len(x)):\n",
    "        # сколько символов с правого края до этой буквы\n",
    "        d[ord(x[i])] = lenX - i\n",
    "    return d\n",
    "\n",
    "def boyerMurSearch(x, s):\n",
    "    d = bmPredCompil(x)\n",
    "    # k - проход по s\n",
    "    # j - проход по x\n",
    "    # i - место начала прохода по s\n",
    "    lenX = i = j = k = len(x)\n",
    "    while j > 0 and i<=len(s):\n",
    "     # совпали, двигаемся дальше (от конца к началу)\n",
    "        if s[k-1] == x[j-1]:\n",
    "            k -= 1\n",
    "            j -= 1\n",
    "        # иначе, продвигаемся по строке на d и начинаем с правого конца подстроки снова\n",
    "        else:\n",
    "            i += d[ord(s[i])]\n",
    "            j = lenX\n",
    "            k = i\n",
    "    if j <= 0:# нашли\n",
    "        return k\n",
    "    return None # не нашли\n",
    "\n",
    "def search(s, t, alg=kmp, ignore_case=False, ignore_space=False):\n",
    "    if ignore_case:\n",
    "        s = s.lower()\n",
    "        t = t.lower()\n",
    "        \n",
    "    if ignore_space:\n",
    "        s = s.replace(' ', '')\n",
    "        t = t.replace(' ', '')\n",
    "        \n",
    "    return alg(s, t)"
   ]
  },
  {
   "cell_type": "markdown",
   "id": "a63d19bb-6676-486d-a159-1392d67dd4ae",
   "metadata": {
    "jp-MarkdownHeadingCollapsed": true,
    "tags": []
   },
   "source": [
    "### Время:\n"
   ]
  },
  {
   "cell_type": "code",
   "execution_count": 3,
   "id": "9c33d041",
   "metadata": {},
   "outputs": [
    {
     "name": "stdout",
     "output_type": "stream",
     "text": [
      "Кнута-Морриса-Пратта - 7.399999999879725e-06\n",
      "Бойера-Мура - 5.899999999670058e-06\n",
      "Встроенная сортировка - 6.65999999998057e-05\n"
     ]
    }
   ],
   "source": [
    "import time\n",
    "import string\n",
    "\n",
    "alg = {\n",
    "    'Кнута-Морриса-Пратта': kmp,\n",
    "    'Бойера-Мура': boyerMurSearch,\n",
    "      }\n",
    "\n",
    "for key, a in alg.items():\n",
    "    time_start = time.perf_counter()\n",
    "    search('acD', 'aaaacd', alg=a, ignore_case=True, ignore_space=True)\n",
    "    print(f'{key} - {time.perf_counter() - time_start}')\n",
    "    \n",
    "time_start = time.perf_counter()\n",
    "'aaaacd'.find('acD')\n",
    "print(f'Встроенная сортировка - {time.perf_counter() - time_start}')"
   ]
  },
  {
   "cell_type": "markdown",
   "id": "2376ed75-2330-4907-bc9d-67b67955623f",
   "metadata": {
    "tags": []
   },
   "source": [
    "## Задание 2 «Пятнашки»\n",
    "Игра в 15, пятнашки, такен — популярная головоломка, придуманная в 1878 году Но ем Чепм эном. Она предст авляет собой набор одинаковых квадратных костяшек с нанесёнными числами, заключённых в квадратную коробку. Длина стороны коробки в четыре раза больше длины стороны костяшек для набора из 15 элементов, соответственно в коробке остаётся незаполненным одно квадратное поле. Цель игры — перемещая костяшки по коробке, добиться упорядочивания их по номерам, желательно сделав как можно меньше перемещений."
   ]
  },
  {
   "cell_type": "markdown",
   "id": "bfcb0438-2e28-4833-bb76-1616a3041d15",
   "metadata": {},
   "source": [
    "![image](5.png)\n",
    "\n",
    "На рисунках выше изображены различные позиции элементов в задаче:\n",
    "\n",
    "1. Левый рисунок — одна из возможных начальных позиций элементов.\n",
    "2. Средний рисунок — одна из «нерешаемых» позиций.\n",
    "3. Правый рисунок — позиция, где все элементы расставлены в\n",
    "правильном порядке.\n",
    "\n",
    "**Задача**: написать программу, определяющую, является ли данное\n",
    "расположение «решаемым», то есть можно ли из него за конечное число\n",
    "шагов перейти к правильному. Если это возможно, то необходимо найти хотя\n",
    "бы одно решение - последовательность движений, после которой числа будут\n",
    "расположены в правильном порядке.\n",
    "\n",
    "**Входные данные**: массив чисел, представляющий собой расстановку в\n",
    "порядке «слева направо, сверху вниз». Число 0 обозначает пустое поле.\n",
    "Например, массив `[1, 2, 3, 4, 5, 6, 7, 8, 9, 10, 11, 12, 13, 14, 15, 0]` представляет\n",
    "собой «решенную» позицию элементов.\n",
    "\n",
    "**Выходные данные**: если решения нет, то функция должна вернуть\n",
    "пустой массив `[]`. Если решение есть, то необходимо представить решение —\n",
    "для каждого шага записывается номер передвигаемого на данном шаге\n",
    "элемента.\n",
    "\n",
    "**Например**, для начального расположения элементов `[1, 2, 3, 4, 5, 6, 7, 8,\n",
    "13, 9, 11, 12, 10, 14, 15, 0]` одним из возможных решений будет `[15, 14, 10, 13,\n",
    "9, 10, 14, 15]` (последовательность шагов здесь: двигаем 15, двигаем 14,\n",
    "двигаем 10, ..., двигаем 15)."
   ]
  },
  {
   "cell_type": "code",
   "execution_count": 1,
   "id": "660283b2-b495-4cdb-a897-4e20b505f4fe",
   "metadata": {},
   "outputs": [
    {
     "name": "stdout",
     "output_type": "stream",
     "text": [
      "True\n"
     ]
    }
   ],
   "source": [
    "import math\n",
    "def search_resh(mass): # Проверка существуюет ли решение \n",
    "    summ=int(0)\n",
    "    for i in range(len(mass)):\n",
    "        for j in range(i, len(mass)):\n",
    "            if mass[i]==0:\n",
    "                summ=summ+math.floor((i+1)/4)\n",
    "            elif mass[i]>mass[j]:\n",
    "                summ=summ+1\n",
    "    if summ%2==0:\n",
    "        return True\n",
    "    return False\n",
    "#\n",
    "\"\"\"def search(mass):\n",
    "    if search_resh(mass):\n",
    "        \n",
    "    else:\n",
    "        return []\"\"\"\n",
    "mass=[15,2,1,12,8,5,6,11,4,9,10,7,3,14,13,0]\n",
    "print(search_resh(mass))"
   ]
  },
  {
   "cell_type": "code",
   "execution_count": 3,
   "id": "c75f9d7e-162e-4ed5-8c7f-3b7e17a29464",
   "metadata": {},
   "outputs": [
    {
     "name": "stdout",
     "output_type": "stream",
     "text": [
      "  1  2  3  4\n",
      "  5  6  7  8\n",
      " 13  9 11 12\n",
      " 10 14 15  0\n",
      "\n",
      "[15, 14, 10, 13, 9, 10, 14, 15]\n"
     ]
    }
   ],
   "source": [
    "from queue import PriorityQueue\n",
    "\n",
    "N = 4\n",
    "\n",
    "def moves(position):\n",
    "    blank = position.index(0) \n",
    "    i, j = divmod(blank, N) \n",
    "    offsets = []\n",
    "    if i > 0: offsets.append(-N)     #  вниз\n",
    "    if i < N - 1: offsets.append(N)  #  вверх\n",
    "    if j > 0: offsets.append(-1)     #  вправо\n",
    "    if j < N - 1: offsets.append(1)  #  влево\n",
    "    for offset in offsets:\n",
    "        swap = blank + offset\n",
    "        yield tuple(position[swap] if x==blank else position[blank] if x==swap else position[x] for x in range(N*N))\n",
    "\n",
    "def parity(permutation):\n",
    "    seen, cycles = set(), 0 \n",
    "    for i in permutation:\n",
    "        if i not in seen:\n",
    "            cycles += 1\n",
    "            while i not in seen:\n",
    "                seen.add(i)\n",
    "                i = permutation[i]\n",
    "    return (cycles + len(permutation)) % 2\n",
    "\n",
    "\n",
    "class Position:\n",
    "    \n",
    "    def __init__(self, position, start_distance):\n",
    "        self.position = position\n",
    "        self.start_distance = start_distance\n",
    "\n",
    "    def __lt__(self, other):\n",
    "        return self.start_distance < other.start_distance\n",
    "    \n",
    "    def __str__(self):\n",
    "        return '\\n'.join((N*'{:3}').format(*[i%(N*N) for i in self.position[i:]]) for i in range(0, N*N, N))\n",
    "\n",
    "SOLVED = (1, 2, 3, 4, 5, 6, 7, 8, 9, 10, 11, 12, 13, 14, 15, 0)\n",
    "start = [1, 2, 3, 4, 5, 6, 7, 8, 13, 9, 11, 12, 10, 14, 15, 0]\n",
    "\n",
    "if parity(start) == 0:\n",
    "    print('Задачу решить нельзя')\n",
    "else:\n",
    "    start = tuple(start) \n",
    "    p = Position(start, 0) \n",
    "    print(p) \n",
    "    print()\n",
    "\n",
    "    candidates = PriorityQueue() # конструктор для очереди с приоритетом\n",
    "    candidates.put(p)\n",
    "\n",
    "    #\n",
    "    visited = set([p])\n",
    "\n",
    "    came_from = {p.position: None} # словарь \n",
    "    \n",
    "    while p.position != SOLVED:\n",
    "        # Извлекаем из очереди позицию с наименьшим приоритетом\n",
    "        p = candidates.get()\n",
    "        # Кладем в очередь все соседние позиции. Повторяем не вытащим конечную позицию из очереди\n",
    "        for k in moves(p.position):\n",
    "            if k not in visited:\n",
    "                candidates.put(Position(k, p.start_distance + 1))\n",
    "                came_from[k] = p\n",
    "                visited.add(k)\n",
    "\n",
    "    path = []\n",
    "    prev = p\n",
    "    while p.position != start:\n",
    "        # Запоминаем откуда ход\n",
    "        p = came_from[p.position]\n",
    "        number = p.position[prev.position.index(0)]\n",
    "        path.append(number)\n",
    "        prev = p\n",
    "    path.reverse()\n",
    "\n",
    "    print(path)"
   ]
  },
  {
   "cell_type": "code",
   "execution_count": null,
   "id": "28e944c5-f260-4eda-a823-9c92c694798f",
   "metadata": {},
   "outputs": [],
   "source": []
  }
 ],
 "metadata": {
  "kernelspec": {
   "display_name": "Python 3 (ipykernel)",
   "language": "python",
   "name": "python3"
  },
  "language_info": {
   "codemirror_mode": {
    "name": "ipython",
    "version": 3
   },
   "file_extension": ".py",
   "mimetype": "text/x-python",
   "name": "python",
   "nbconvert_exporter": "python",
   "pygments_lexer": "ipython3",
   "version": "3.9.1"
  }
 },
 "nbformat": 4,
 "nbformat_minor": 5
}
