{
 "cells": [
  {
   "cell_type": "markdown",
   "metadata": {
    "id": "WPvB9TcMmKA6"
   },
   "source": [
    "# Лабораторная работа №5. Рекурсия. Фракталы.\n",
    "# Выполнил студент группы БСТ2001 Ибодуллоев Умед Хуршедович"
   ]
  },
  {
   "cell_type": "markdown",
   "metadata": {
    "id": "4clYOyb0mbEv"
   },
   "source": [
    "## Задание:\n",
    "1. Реализовать генерацию заданного типа фрактала с применением рекурсивных функций.\n",
    "2. Добавить возможность задания глубины фрактала.\n",
    "3. Оценить глубину рекурсии.\n",
    "4. Построить таблицу зависимости времени построения от глубины фрактала."
   ]
  },
  {
   "cell_type": "markdown",
   "metadata": {
    "id": "wDXHbUmMmhRL"
   },
   "source": [
    "## Варианты заданий:\n",
    "\n",
    "Вариант | Задание\n",
    ":-------- |:-----\n",
    "1, 7, 13, 19, 25 | Кривая Коха\n",
    "2, 8, 14, 20, 26 | Кривая Гильберта\n",
    "3, 9,15,21,27 | Кривая Серпинского\n",
    "4, 10, 16, 22, 28 | Салфетка Серпинского\n",
    "5, 11, 17, 23, 29| Ковер Серпинского\n",
    "6, 12, 18, 24, 30 | Дерево Пифагора \n"
   ]
  },
  {
   "cell_type": "markdown",
   "metadata": {
    "id": "Wggfn8l7nG72"
   },
   "source": [
    "## Выполнение:"
   ]
  },
  {
   "cell_type": "code",
   "execution_count": 4,
   "metadata": {
    "id": "681a95mZnOSa"
   },
   "outputs": [
    {
     "name": "stdin",
     "output_type": "stream",
     "text": [
      "Введите длину стороны треугольника:  300\n",
      "Введите глубину рекурсии:  2\n"
     ]
    },
    {
     "name": "stdout",
     "output_type": "stream",
     "text": [
      "Глубина рекурсии: 2\n",
      "Время выполнения: 10.975972414016724\n"
     ]
    }
   ],
   "source": [
    "import time\n",
    "from turtle import * \n",
    " \n",
    "def koch_curve(size, n):\n",
    "    if n == 0:\n",
    "        turtle.forward(size)\n",
    "    else:\n",
    "        koch_curve(size / 3, n - 1)\n",
    "        turtle.left(60)\n",
    "        koch_curve(size / 3, n - 1)\n",
    "        turtle.right(120)\n",
    "        koch_curve(size / 3, n - 1)\n",
    "        turtle.left(60)\n",
    "        koch_curve(size / 3, n - 1)\n",
    " \n",
    " \n",
    "def draw_koch_snowflake(size, n):\n",
    "    for i in range(3):\n",
    "        koch_curve(size, n)\n",
    "        turtle.right(120)\n",
    "\n",
    "\n",
    "size = int(input(f\"Введите длину стороны треугольника: \"))\n",
    "level = int(input(f\"Введите глубину рекурсии: \"))\n",
    "penup()\n",
    "goto(-size / 2.0, size / 2.0)\n",
    "pendown()\n",
    "\n",
    "# For positioning turtle\n",
    "prev_t = time.time()\n",
    "draw_koch_snowflake(size, level)\n",
    "cur_t = time.time() - prev_t\n",
    "print(f\"Глубина рекурсии: {level}\\nВремя выполнения: {cur_t}\")\n",
    "done()\n",
    "    "
   ]
  },
  {
   "cell_type": "code",
   "execution_count": null,
   "metadata": {},
   "outputs": [],
   "source": []
  },
  {
   "cell_type": "code",
   "execution_count": null,
   "metadata": {},
   "outputs": [],
   "source": []
  }
 ],
 "metadata": {
  "colab": {
   "collapsed_sections": [],
   "name": "Lab5.ipynb",
   "provenance": []
  },
  "kernelspec": {
   "display_name": "Python 3 (ipykernel)",
   "language": "python",
   "name": "python3"
  },
  "language_info": {
   "codemirror_mode": {
    "name": "ipython",
    "version": 3
   },
   "file_extension": ".py",
   "mimetype": "text/x-python",
   "name": "python",
   "nbconvert_exporter": "python",
   "pygments_lexer": "ipython3",
   "version": "3.9.1"
  }
 },
 "nbformat": 4,
 "nbformat_minor": 4
}
