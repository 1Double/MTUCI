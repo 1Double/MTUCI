{
 "cells": [
  {
   "cell_type": "markdown",
   "id": "a54a74c7-adfb-4223-965d-3a16d69114ac",
   "metadata": {
    "tags": []
   },
   "source": [
    "# Лабораторная работа №2. Методы поиска.\n",
    "# Выполнил студент группы БСТ2001 Ибодуллоев Умед Хуршедович"
   ]
  },
  {
   "cell_type": "markdown",
   "id": "c6dc5652-3464-48c6-9795-a285c430293d",
   "metadata": {
    "tags": []
   },
   "source": [
    "## Задание №1\n",
    "\n",
    "Реализовать методы поиска в соответствии с заданием. \n",
    "Организовать генерацию начального набора случайных данных. \n",
    "Для всех вариантов добавить реализацию добавления, поиска и удаления элементов. Оценить время работы каждого алгоритма поиска и сравнить его со временем работы стандартной функции поиска, используемой в выбранном языке программирования."
   ]
  },
  {
   "cell_type": "markdown",
   "id": "f86e7081-d166-437f-870a-a394edbfae19",
   "metadata": {
    "tags": []
   },
   "source": [
    "### Генерация списка"
   ]
  },
  {
   "cell_type": "code",
   "execution_count": 5,
   "id": "38c79b8b-28dc-406b-868e-746a3df53850",
   "metadata": {},
   "outputs": [],
   "source": [
    "# Генерация списка\n",
    "import random\n",
    "\n",
    "def random_list(m=50, min=0, max=1007):\n",
    "    return [random.randint(min, max) for _ in range(m)]\n",
    "\n",
    "num = random_list(m=1000)"
   ]
  },
  {
   "cell_type": "markdown",
   "id": "1a6ec9ee-71ca-458f-a18b-e23a3e619e4b",
   "metadata": {
    "tags": []
   },
   "source": [
    "### Бинарный поиск"
   ]
  },
  {
   "cell_type": "code",
   "execution_count": 6,
   "id": "669dbab9-2faf-432a-8c95-bbdd21ac2f19",
   "metadata": {},
   "outputs": [],
   "source": [
    "def bin_search(arr, value):\n",
    "    left = 0\n",
    "    right = len(arr) - 1\n",
    "    \n",
    "    while left < right:\n",
    "        mid = (left + right) // 2\n",
    "        if arr[mid] < value:\n",
    "            left = mid + 1\n",
    "        else:\n",
    "            right = mid\n",
    "            \n",
    "    return left"
   ]
  },
  {
   "cell_type": "markdown",
   "id": "7671d30d-1ac1-4f0f-85b1-05acd6b38e82",
   "metadata": {
    "tags": []
   },
   "source": [
    "### Бинарное дерево"
   ]
  },
  {
   "cell_type": "code",
   "execution_count": 7,
   "id": "139aef1a-59a4-407e-bcd3-37e364f36d31",
   "metadata": {},
   "outputs": [],
   "source": [
    "class Node:\n",
    "\n",
    "    def __init__(self, data):\n",
    "\n",
    "        self.left = None\n",
    "        self.right = None\n",
    "        self.data = data\n",
    "\n",
    "    def insert(self, data):\n",
    "\n",
    "        if self.data:\n",
    "            if data < self.data:\n",
    "                if self.left is None:\n",
    "                    self.left = Node(data)\n",
    "                else:\n",
    "                    self.left.insert(data)\n",
    "            elif data > self.data:\n",
    "                if self.right is None:\n",
    "                    self.right = Node(data)\n",
    "                else:\n",
    "                    self.right.insert(data) \n",
    "        else:\n",
    "            self.data = data\n",
    "            \n",
    "    def findval(self, lkpval):\n",
    "        if lkpval < self.data:\n",
    "            if self.left is None:\n",
    "                return str(lkpval)+\" Not Found\"\n",
    "            return self.left.findval(lkpval)\n",
    "        elif lkpval > self.data:\n",
    "            if self.right is None:\n",
    "                return str(lkpval)+\" Not Found\"\n",
    "            return self.right.findval(lkpval)\n",
    "        else:\n",
    "            return self.data\n",
    "\n",
    "    def PrintTree(self):\n",
    "        if self.left:\n",
    "            self.left.PrintTree()\n",
    "        print( self.data),\n",
    "        if self.right:\n",
    "            self.right.PrintTree()\n",
    "\n",
    "# Заполняем дерево\n",
    "root = Node(num[0])\n",
    "for m in range(1, len(num)):\n",
    "    root.insert(num[m])"
   ]
  },
  {
   "cell_type": "markdown",
   "id": "99ca15aa-53d7-46b1-a050-06b01962d2fe",
   "metadata": {
    "tags": []
   },
   "source": [
    "### Фибоначчиев поиск"
   ]
  },
  {
   "cell_type": "code",
   "execution_count": 8,
   "id": "c20eceed-523f-4d12-80b4-8a8c2a50973e",
   "metadata": {},
   "outputs": [],
   "source": [
    "def FibonacciSearch(lys, val):\n",
    "    fibM_minus_2 = 0\n",
    "    fibM_minus_1 = 1\n",
    "    fibM = fibM_minus_1 + fibM_minus_2\n",
    "    while (fibM < len(lys)):\n",
    "        fibM_minus_2 = fibM_minus_1\n",
    "        fibM_minus_1 = fibM\n",
    "        fibM = fibM_minus_1 + fibM_minus_2\n",
    "    index = -1;\n",
    "    while (fibM > 1):\n",
    "        i = min(index + fibM_minus_2, (len(lys)-1))\n",
    "        if (lys[i] < val):\n",
    "            fibM = fibM_minus_1\n",
    "            fibM_minus_1 = fibM_minus_2\n",
    "            fibM_minus_2 = fibM - fibM_minus_1\n",
    "            index = i\n",
    "        elif (lys[i] > val):\n",
    "            fibM = fibM_minus_2\n",
    "            fibM_minus_1 = fibM_minus_1 - fibM_minus_2\n",
    "            fibM_minus_2 = fibM - fibM_minus_1\n",
    "        else :\n",
    "            return i\n",
    "    if(fibM_minus_1 and index < (len(lys)-1) and lys[index+1] == val):\n",
    "        return index+1;\n",
    "    return -1"
   ]
  },
  {
   "cell_type": "markdown",
   "id": "215835d3-fe39-4844-bcfc-b5b98535b6de",
   "metadata": {
    "tags": []
   },
   "source": [
    "### Интерполяционный поиск"
   ]
  },
  {
   "cell_type": "code",
   "execution_count": 9,
   "id": "8cd39679-1af4-4b47-80a6-a7fdfd6cd52d",
   "metadata": {},
   "outputs": [],
   "source": [
    "def interpolation(arr, val):\n",
    "    low = 0\n",
    "    high = len(arr)-1\n",
    "    while low <= high and val >= arr[low] and val <= arr[high]:\n",
    "        m = low + (high-low)*(val-arr[low])//(arr[high]-arr[low])\n",
    "        if arr[m] == val:\n",
    "            return m\n",
    "        elif arr[m] < val:\n",
    "            low = m+1\n",
    "        else: \n",
    "            high = m-1\n",
    "    return -1"
   ]
  },
  {
   "cell_type": "markdown",
   "id": "7645eed9-452f-4331-9197-063b1b0c9375",
   "metadata": {
    "tags": []
   },
   "source": [
    "### Время"
   ]
  },
  {
   "cell_type": "code",
   "execution_count": 10,
   "id": "14f9db4e-d239-43d3-9fd1-af89ea882d6e",
   "metadata": {},
   "outputs": [
    {
     "name": "stdout",
     "output_type": "stream",
     "text": [
      "Бинарный поиск - 0.0001188999999897078\n",
      "Интерполяционный поиск - 0.00011480000000574364\n",
      "Бинарное дерево - 6.100000007336348e-06\n"
     ]
    }
   ],
   "source": [
    "import time\n",
    "functions = {\n",
    "    'Бинарный поиск': bin_search,\n",
    "    'Интерполяционный поиск': interpolation,\n",
    "    'Бинарное дерево': Node,\n",
    "}\n",
    "\n",
    "for name, function in functions.items():\n",
    "    time_start = time.perf_counter()\n",
    "    if name == 'Бинарное дерево':\n",
    "        root.findval(num[100])\n",
    "    else:\n",
    "        function(sorted(num), num[100])\n",
    "    print(f'{name} - {time.perf_counter() - time_start}')\n",
    "    "
   ]
  },
  {
   "cell_type": "markdown",
   "id": "20f2d2fa-f629-48cb-a66a-a03ac6345843",
   "metadata": {
    "tags": []
   },
   "source": [
    "## Задание №2"
   ]
  },
  {
   "cell_type": "markdown",
   "id": "4b6ec1ad-137a-4a6c-8c6d-8e527d0ad2a1",
   "metadata": {
    "tags": []
   },
   "source": [
    "### Простое рехеширование "
   ]
  },
  {
   "cell_type": "code",
   "execution_count": 19,
   "id": "8599730c-22be-40e1-943e-a727ff334c3b",
   "metadata": {},
   "outputs": [],
   "source": [
    "import random\n",
    "#Простое рехэширование\n",
    "class prost_rehash:\n",
    "    # Конструктор, создание словаря\n",
    "    def __init__(self):\n",
    "        self.rhash=[None]*256\n",
    "        \n",
    "    def keys(self, element): # Формирование ключа\n",
    "        key=0\n",
    "        for i in range(len(element)):\n",
    "            key=key+ord(element[i])\n",
    "        return int(key%256)\n",
    "    \n",
    "    def add(self, element): # Добавление элемента \n",
    "        key=self.keys(element)\n",
    "        while self.rhash[key] is not None:\n",
    "            key=key+1\n",
    "        self.rhash[key]=element\n",
    "                   \n",
    "    def search(self, element): # Поиск элемента\n",
    "        key=self.keys(element)\n",
    "        while self.rhash[key] is not None:\n",
    "            if self.rhash[key]==element:\n",
    "                return key\n",
    "            else:\n",
    "                key=key+1\n",
    "        return None\n",
    "    \n",
    "    def deleted(self, element): # Удаление элемента\n",
    "        key=self.search(element)\n",
    "        while key is not None and self.rhash[key] is not None:\n",
    "            if self.rhash[key]==element:\n",
    "                del self.rhash[key]\n",
    "                key=int(key+1)\n",
    "                while key<len(self.rhash) and self.rhash[key] is not None:\n",
    "                    el=self.rhash.pop(key)\n",
    "                    self.add(el)\n",
    "                    key=key+1\n",
    "                return 1\n",
    "            else:\n",
    "                key=key+1\n",
    "        return -1\n",
    "    \n",
    "    def pr(self): #\n",
    "        for  key, i in enumerate(self.rhash):\n",
    "            if self.rhash[key] is not None:\n",
    "                print(key, \" \", i)"
   ]
  },
  {
   "cell_type": "markdown",
   "id": "76177144-fe7c-4577-8d6a-1c85bd0e7038",
   "metadata": {
    "tags": []
   },
   "source": [
    "### Рехеширование с помощью псевдослучайных чисел"
   ]
  },
  {
   "cell_type": "code",
   "execution_count": 20,
   "id": "cfba2314-8187-44d5-89a3-9cf13b5ee9e7",
   "metadata": {},
   "outputs": [],
   "source": [
    "class random_rehash():\n",
    "    # Конструктор, создание словаря\n",
    "    def __init__(self):\n",
    "        self.rhash=[None]*256\n",
    "    \n",
    "    def rand(self, element): #генерация псевдослучайного числа\n",
    "        key=int(0)\n",
    "        for i in range(len(element)):\n",
    "            key=key+ord(element[i])\n",
    "        return key\n",
    "    \n",
    "    def keys(self, key, l): # Формирование ключа\n",
    "        random.seed(l)\n",
    "        return int(key+((random.random()*10000000000000000)%1000))\n",
    "            \n",
    "    \n",
    "    def add(self, element): # Добавление элемента \n",
    "        l=int(0)\n",
    "        key=self.rand(element)\n",
    "        key1=self.keys(key, l)%256\n",
    "        while key1<len(self.rhash) and self.rhash[key1] is not None:\n",
    "            l=l+1\n",
    "            key1= self.keys(key, l)%256\n",
    "        if key1<len(self.rhash):\n",
    "            self.rhash[key1]=element\n",
    "        else:\n",
    "            print(\"Таблица заполнена\")\n",
    "                   \n",
    "    def search(self, element): # Поиск элемента\n",
    "        l=int(0)\n",
    "        key=self.rand(element)\n",
    "        key1=self.keys(key, l)%256\n",
    "        while key1<len(self.rhash) and self.rhash[key1] is not None:\n",
    "            if self.rhash[key1]==element:\n",
    "                return key1\n",
    "            else:\n",
    "                l=l+1\n",
    "                key1=self.keys(key, l)\n",
    "        return None\n",
    "    \n",
    "    def deleted(self, element): # Удаление элемента\n",
    "        l=int(0)\n",
    "        keyn=self.rand(element)\n",
    "        key1=self.keys(keyn, l)%256\n",
    "        key=self.search(element)\n",
    "        if key is not None:\n",
    "            while key is not key1:\n",
    "                l=l+1\n",
    "                key1=self.keys(keyn, l)%256\n",
    "            self.rhash[key]=None\n",
    "            l=l+1\n",
    "            key1=self.keys(keyn, l)%256\n",
    "            while key1<len(self.rhash) and self.rhash[key1] is not None:\n",
    "                el=self.rhash[key1]\n",
    "                self.rhash[key1]=None\n",
    "                self.add(el)\n",
    "                l=l+1\n",
    "                key1=self.keys(keyn, l)%256\n",
    "            return \"Элемент удален\"\n",
    "        else:\n",
    "            return \"Элемент не найден\"\n",
    "                 \n",
    "    def pr(self): #\n",
    "        for key, i in enumerate(self.rhash):\n",
    "            if self.rhash[key] is not None:\n",
    "                print(key, \" \", i)"
   ]
  },
  {
   "cell_type": "markdown",
   "id": "a5352076-4393-4fa7-acad-f3b1f73ef96d",
   "metadata": {
    "tags": []
   },
   "source": [
    "### Метод цепочек"
   ]
  },
  {
   "cell_type": "code",
   "execution_count": 21,
   "id": "fb22343f-6a27-4ae1-8010-60c1cef5c7eb",
   "metadata": {},
   "outputs": [],
   "source": [
    "class chain_rehash:\n",
    "    # Конструктор, создание словаря\n",
    "    def __init__(self):\n",
    "        self.rhash=[[]*0 for i in range(10)]\n",
    "    \n",
    "    def add(self, element):  # Добавление элемента\n",
    "        key=int(0)\n",
    "        for i in range(len(element)):\n",
    "            key=key+ord(element[i])\n",
    "        key=key%10\n",
    "        self.rhash[key].append(element)\n",
    "        \n",
    "        \n",
    "    def search(self, element): #Поиск\n",
    "            key=int(0)\n",
    "            for i in range(len(element)):\n",
    "                key=key+ord(element[i])\n",
    "            key=key%10\n",
    "            if self.rhash[key] is not None:\n",
    "                for i in range(len(self.rhash[key])):\n",
    "                    if self.rhash[key][i]==element:\n",
    "                        return key, i\n",
    "            return None, None\n",
    "            \n",
    "    def deleted(self, element):\n",
    "            key, i=self.search(element)\n",
    "            if key is not None:\n",
    "                del(self.rhash[key][i])\n",
    "                print(\"Элемент успешно удален\")\n",
    "            else:\n",
    "                print(\"Элемент не найден\")\n",
    "                return -1\n",
    "    \n",
    "    def pr(self): #вывод\n",
    "        for key in range(len(self.rhash)):\n",
    "            for i in range(len(self.rhash[key])):\n",
    "                if self.rhash[key][i] is not None:\n",
    "                    print(\"(ключ)\", key, \"- (Элемент)\", self.rhash[key][i])"
   ]
  },
  {
   "cell_type": "markdown",
   "id": "2d9ded6b-9427-4226-9c95-d529b5b69f5f",
   "metadata": {
    "tags": []
   },
   "source": [
    "### Время"
   ]
  },
  {
   "cell_type": "code",
   "execution_count": 22,
   "id": "d1cb50b3-0615-4606-b8e6-79639eaf50ad",
   "metadata": {},
   "outputs": [
    {
     "name": "stdout",
     "output_type": "stream",
     "text": [
      "Выберите метод рехэширования\n",
      "1.Простое рехэширование\n",
      "2.Рехэширование с использованием псевдослучайных числе\n",
      "3.Метод цепочек\n"
     ]
    },
    {
     "name": "stdin",
     "output_type": "stream",
     "text": [
      " 3\n"
     ]
    },
    {
     "name": "stdout",
     "output_type": "stream",
     "text": [
      "Введите количество элементов, которые необходимо добавить\n"
     ]
    },
    {
     "name": "stdin",
     "output_type": "stream",
     "text": [
      " 3\n"
     ]
    },
    {
     "name": "stdout",
     "output_type": "stream",
     "text": [
      "Введите элементы которые необходимо добавить\n"
     ]
    },
    {
     "name": "stdin",
     "output_type": "stream",
     "text": [
      " 1\n",
      " 1\n",
      " 2\n"
     ]
    },
    {
     "name": "stdout",
     "output_type": "stream",
     "text": [
      "(ключ) 0 - (Элемент) 2\n",
      "(ключ) 9 - (Элемент) 1\n",
      "(ключ) 9 - (Элемент) 1\n",
      "Найти элемент?\n",
      "1. Да\n",
      "2. Нет\n"
     ]
    },
    {
     "name": "stdin",
     "output_type": "stream",
     "text": [
      " 1\n"
     ]
    },
    {
     "name": "stdout",
     "output_type": "stream",
     "text": [
      "Введите элемент\n"
     ]
    },
    {
     "name": "stdin",
     "output_type": "stream",
     "text": [
      " 1\n"
     ]
    },
    {
     "name": "stdout",
     "output_type": "stream",
     "text": [
      "Элемент найден. Удалить элемент?\n",
      "1. Да\n",
      "2. Нет\n",
      "\n"
     ]
    },
    {
     "name": "stdin",
     "output_type": "stream",
     "text": [
      " 1\n"
     ]
    },
    {
     "name": "stdout",
     "output_type": "stream",
     "text": [
      "Элемент успешно удален\n",
      "(ключ) 0 - (Элемент) 2\n",
      "(ключ) 9 - (Элемент) 1\n",
      "Найти элемент?\n",
      "1. Да\n",
      "2. Нет\n"
     ]
    },
    {
     "name": "stdin",
     "output_type": "stream",
     "text": [
      " 1\n"
     ]
    },
    {
     "name": "stdout",
     "output_type": "stream",
     "text": [
      "Введите элемент\n"
     ]
    },
    {
     "name": "stdin",
     "output_type": "stream",
     "text": [
      " 2\n"
     ]
    },
    {
     "name": "stdout",
     "output_type": "stream",
     "text": [
      "Элемент найден. Удалить элемент?\n",
      "1. Да\n",
      "2. Нет\n",
      "\n"
     ]
    },
    {
     "name": "stdin",
     "output_type": "stream",
     "text": [
      " 1\n"
     ]
    },
    {
     "name": "stdout",
     "output_type": "stream",
     "text": [
      "Элемент успешно удален\n",
      "(ключ) 9 - (Элемент) 1\n",
      "Найти элемент?\n",
      "1. Да\n",
      "2. Нет\n"
     ]
    },
    {
     "name": "stdin",
     "output_type": "stream",
     "text": [
      " 2\n"
     ]
    },
    {
     "name": "stdout",
     "output_type": "stream",
     "text": [
      "Продолжить работу\n",
      "1.Да\n",
      "2. Нет\n"
     ]
    },
    {
     "name": "stdin",
     "output_type": "stream",
     "text": [
      " 2\n"
     ]
    }
   ],
   "source": [
    "ln=1\n",
    "while ln==1:\n",
    "    print(\"Выберите метод рехэширования\\n1.Простое рехэширование\\n2.Рехэширование с использованием псевдослучайных числе\\n3.Метод цепочек\")\n",
    "    var=int(input())\n",
    "        \n",
    "    if var==1:# Простое рехэширование\n",
    "        pr_rehash=prost_rehash()\n",
    "        print(\"Введите количество элементов, которые необходимо добавить\")\n",
    "        colelement=int(input())\n",
    "        elements=[\"\"]*colelement\n",
    "        print(\"Введите элементы которые необходимо добавить\")\n",
    "        for i in range(colelement):\n",
    "            elements[i]=(input())#ввод элементов\n",
    "        for i in range(len(elements)):\n",
    "            pr_rehash.add(elements[i])\n",
    "        pr_rehash.pr()\n",
    "        print(\"Найти элемент?\\n1. Да\\n2. Нет\")\n",
    "        ot=int(input())\n",
    "        while(ot==1):\n",
    "            print(\"Введите элемент\")\n",
    "            s=input()\n",
    "            key=pr_rehash.search(s)#поиск\n",
    "            if key is not None:\n",
    "                print(\"Элемент найден. Удалить элемент?\\n1. Да\\n2. Нет\\n\")\n",
    "                dl=int(input())\n",
    "                if(dl==1):\n",
    "                    pr_rehash.deleted(s)\n",
    "                    pr_rehash.pr()\n",
    "            else:\n",
    "                print(\"Элемент не найдет\")\n",
    "            print(\"Найти элемент?\\n1. Да\\n2. Нет\")\n",
    "            ot=int(input())\n",
    "        print(\"Продолжить работу\\n1.Да\\n2. Нет\")\n",
    "        ln=int(input())\n",
    "        \n",
    "    if var==2:# Рехэширование с использование псевдослучайных чисел\n",
    "        rand_rehash=random_rehash()\n",
    "        print(\"Введите количество элементов, которые необходимо добавить\")\n",
    "        colelement=int(input())\n",
    "        elements=[\"\"]*colelement\n",
    "        print(\"Введите элементы которые необходимо добавить\")\n",
    "        for i in range(colelement):\n",
    "            elements[i]=(input())#ввод элементов\n",
    "        for i in range(len(elements)):\n",
    "            rand_rehash.add(elements[i])\n",
    "        rand_rehash.pr()\n",
    "        print(\"Найти элемент?\\n1. Да\\n2. Нет\")\n",
    "        ot=int(input())\n",
    "        while(ot==1):\n",
    "            print(\"Введите элемент\")\n",
    "            s=input()\n",
    "            key=rand_rehash.search(s)#поиск\n",
    "            if key is not None:\n",
    "                print(\"Элемент найден. Удалить элемент?\\n1. Да\\n2. Нет\\n\")\n",
    "                dl=int(input())\n",
    "                if(dl==1):\n",
    "                    rand_rehash.deleted(s)\n",
    "                    rand_rehash.pr()\n",
    "            else:\n",
    "                print(\"Элемент не найден\")\n",
    "            print(\"Найти элемент?\\n1. Да\\n2. Нет\")\n",
    "            ot=int(input())\n",
    "        print(\"Продолжить работу\\n1. Да\\n2. Нет\")\n",
    "        ln=int(input())\n",
    "\n",
    "    if var==3:#реализация метода цепочек\n",
    "        chain=chain_rehash()\n",
    "        print(\"Введите количество элементов, которые необходимо добавить\")\n",
    "        colelement=int(input())\n",
    "        elements=[\"\"]*colelement\n",
    "        print(\"Введите элементы которые необходимо добавить\")\n",
    "        for i in range(colelement):\n",
    "            elements[i]=(input()) #ввод элементов\n",
    "        for i in range(len(elements)):\n",
    "            chain.add(elements[i]) #реализация метода цепочек\n",
    "        chain.pr()\n",
    "        print(\"Найти элемент?\\n1. Да\\n2. Нет\")\n",
    "        ot=int(input())\n",
    "        while(ot==1):\n",
    "            print(\"Введите элемент\")\n",
    "            s=input()\n",
    "            key, el=chain.search(s)#поиск\n",
    "            if key is not None:\n",
    "                print(\"Элемент найден. Удалить элемент?\\n1. Да\\n2. Нет\\n\")\n",
    "                dl=int(input())\n",
    "                if(dl==1):\n",
    "                    chain.deleted(s)\n",
    "                    chain.pr()\n",
    "            else:\n",
    "                print(\"Элемент не найдет\")\n",
    "            print(\"Найти элемент?\\n1. Да\\n2. Нет\")\n",
    "            ot=int(input())\n",
    "        print(\"Продолжить работу\\n1.Да\\n2. Нет\")\n",
    "        ln=int(input())"
   ]
  },
  {
   "cell_type": "markdown",
   "id": "b1f57829-4710-4e75-9feb-0109021ed8a9",
   "metadata": {
    "tags": []
   },
   "source": [
    "## Задание №3\n",
    "Расставить на стандартной 64-клеточной шахматной доске 8 ферзей так, чтобы ни один из них не находился под боем другого». Подразумевается, что ферзь бьёт все клетки, расположенные по вертикалям, горизонталям и обеим диагоналям\n",
    "Написать программу,  которая находит хотя бы один способ решения задач."
   ]
  },
  {
   "cell_type": "code",
   "execution_count": 48,
   "id": "97e2898d-91b9-472c-b4ea-0cceaad9b1eb",
   "metadata": {},
   "outputs": [
    {
     "name": "stdout",
     "output_type": "stream",
     "text": [
      "Решим задачу о 8 ферзях:\n",
      "Всего решений = 92\n"
     ]
    }
   ],
   "source": [
    "size = 8\n",
    "chessBoard = [[0 for i in range(8)] for j in range(size)]\n",
    "solutions = 0\n",
    "\n",
    "# Поставим ферзя в клетку ij\n",
    "def setQueen(i,j):\n",
    "    for x in range(size):\n",
    "        # Горизонталь\n",
    "        chessBoard[x][j] += 1\n",
    "        # Вертикаль\n",
    "        chessBoard[i][x] += 1\n",
    "        # Для заполнения диагоналей, сначала проверяем существует ли клетка с таким индексом\n",
    "        if 0 <= i + j - x < size:\n",
    "            chessBoard[i + j - x][x] += 1\n",
    "        if 0 <= i - j + x < size:\n",
    "            chessBoard[i - j + x][x] += 1\n",
    "    # -1 - обозначение ферзя в клетке\n",
    "    chessBoard[i][j] = -1\n",
    "\n",
    "def deleteQueen(i,j):\n",
    "    for x in range(size):\n",
    "        # Освобождение горизонталь\n",
    "        chessBoard[x][j] -= 1\n",
    "        # Освобождение вертикаль\n",
    "        chessBoard[i][x] -= 1\n",
    "        # Освобождение диагонали\n",
    "        if 0 <= i + j - x < size:\n",
    "            chessBoard[i+j-x][x] -= 1\n",
    "        if 0 <= i - j + x < size:\n",
    "            chessBoard[i - j + x][x] -= 1\n",
    "    # Уберём ферзя\n",
    "    chessBoard[i][j] = 0\n",
    "\n",
    "# Функция для приятного глазу вывода\n",
    "def outputAnswers():\n",
    "    global solutions\n",
    "    solutions += 1\n",
    "    tempAlphabet = 'abcdefgh'\n",
    "    answer = []\n",
    "    for i in range(size):\n",
    "        for j in range(size):\n",
    "            if chessBoard[i][j] == -1:\n",
    "                answer.append(tempAlphabet[j]+str(i+1))\n",
    "    #print('  '.join(answer))\n",
    "\n",
    "# Рекурсивная функция, находит решения i-ой строки\n",
    "def solveTask(i):\n",
    "    # Ищем пустую клетку в строке\n",
    "    for j in range(size):\n",
    "        if chessBoard[i][j] == 0:\n",
    "            # Если нашли ставим туда ферзя\n",
    "            setQueen(i,j)\n",
    "            # Если мы находимся в последней строке - выводим ответ, иначе поднимаемся на строку выше\n",
    "            if i == size - 1:\n",
    "                outputAnswers()\n",
    "            else:\n",
    "                solveTask(i + 1)\n",
    "            deleteQueen(i,j)\n",
    "\n",
    "print(\"Решим задачу о 8 ферзях:\")\n",
    "solveTask(0)\n",
    "print(\"Всего решений = \" + str(solutions))\n"
   ]
  },
  {
   "cell_type": "code",
   "execution_count": 29,
   "id": "69c25a91-db54-474d-9855-3a7b22a2e3bb",
   "metadata": {},
   "outputs": [
    {
     "name": "stdin",
     "output_type": "stream",
     "text": [
      " 8\n"
     ]
    },
    {
     "name": "stdout",
     "output_type": "stream",
     "text": [
      ". Ф . . . . . .\n",
      ". . . Ф . . . .\n",
      ". . . . . Ф . .\n",
      ". . . . . . . Ф\n",
      ". . Ф . . . . .\n",
      "Ф . . . . . . .\n",
      ". . . . . . Ф .\n",
      ". . . . Ф . . .\n",
      "\n",
      "\n",
      ". . . . Ф . . .\n",
      ". . . . . . Ф .\n",
      "Ф . . . . . . .\n",
      ". . Ф . . . . .\n",
      ". . . . . . . Ф\n",
      ". . . . . Ф . .\n",
      ". . . Ф . . . .\n",
      ". Ф . . . . . .\n"
     ]
    }
   ],
   "source": [
    "n=int(input())\n",
    "if n%6==2:\n",
    "    even=list(range(1,n,2))\n",
    "    odd=list(range(2,n,2))\n",
    "    odd[1]=0\n",
    "    odd.append(4)\n",
    "elif n%6==3:\n",
    "    even=list(range(3, n, 2))\n",
    "    odd=list(range(4, n, 2))\n",
    "    even.append(1)\n",
    "    odd.append(0)\n",
    "    odd.append(2)\n",
    "else:\n",
    "    even=list(range(1,n,2))\n",
    "    odd=list(range(0,n,2))\n",
    "rez=even+odd\n",
    "row=[\".\"]*n\n",
    "for i in range(n):\n",
    "    j=rez[i]\n",
    "    row[j]=\"Ф\"\n",
    "    print(*row)\n",
    "    row[j]=\".\"\n",
    "i=n-1\n",
    "print(\"\\n\")\n",
    "while i>=0:\n",
    "    j=rez[i]\n",
    "    row[j]=\"Ф\"\n",
    "    print(*row)\n",
    "    row[j]=\".\"\n",
    "    i-=1"
   ]
  },
  {
   "cell_type": "code",
   "execution_count": null,
   "id": "73a32b1e-68b0-4474-97f1-9c8c8a7b7329",
   "metadata": {},
   "outputs": [],
   "source": []
  }
 ],
 "metadata": {
  "kernelspec": {
   "display_name": "Python 3 (ipykernel)",
   "language": "python",
   "name": "python3"
  },
  "language_info": {
   "codemirror_mode": {
    "name": "ipython",
    "version": 3
   },
   "file_extension": ".py",
   "mimetype": "text/x-python",
   "name": "python",
   "nbconvert_exporter": "python",
   "pygments_lexer": "ipython3",
   "version": "3.9.1"
  }
 },
 "nbformat": 4,
 "nbformat_minor": 5
}
