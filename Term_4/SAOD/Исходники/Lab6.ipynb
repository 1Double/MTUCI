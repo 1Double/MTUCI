{
 "cells": [
  {
   "cell_type": "markdown",
   "metadata": {
    "id": "0z3KlfKDn4_K"
   },
   "source": [
    "# Лабораторная работа 6. Сетевые алгоритмы. Динамические алгоритмы поиска путей.\n",
    "# Выполнил студент группы БСТ2001 Ибодуллоев Умед Хуршедович"
   ]
  },
  {
   "cell_type": "markdown",
   "metadata": {
    "id": "GjdIp8aToKIe"
   },
   "source": [
    "## Задание\n",
    "1.  Реализовать алгоритм поиска кратчайшего расстояния между двумя вершинами ориентированного взвешенного графа в соответствии с вариантом. \n",
    "2.  Предусмотреть задание графа в виде матрицы смежности/инцидентности, читаемой из файла, либо графически с помощью пользовательского интерфейса. \n",
    "3.  Разработать графический интерфейс пользователя с визуализацией графа и отображением кратчайшего расстояния между задаваемыми пользователем вершинами.\n",
    "4. По результатам работы проанализировать временную сложность работы заданного алгоритма в зависимости от числа узлов и ребер графа.\n",
    "Данные представить в виде таблицы."
   ]
  },
  {
   "cell_type": "markdown",
   "metadata": {
    "id": "LhhUXrAmotIA"
   },
   "source": [
    "## Варианты заданий:\n",
    "\n",
    "Вариант | Задание\n",
    ":-------- |:-----\n",
    "1, 7, 13, 19, 25 | Алгоритм Флойда-Уоршелла\n",
    "2, 8, 14, 20, 26 | Алгоритм Дейкстры\n",
    "3, 9, 15, 21, 27 | Алгоритм Беллмана-Форда\n",
    "4, 10, 16, 22, 28 | Алгоритм Джонсона\n",
    "5, 11, 17, 23, 29| Алгоритм Левита\n",
    "6, 12, 18, 24, 30 | Алгоритм Йена\n",
    "\n"
   ]
  },
  {
   "cell_type": "markdown",
   "metadata": {
    "id": "Wggfn8l7nG72"
   },
   "source": [
    "## Выполнение:"
   ]
  },
  {
   "cell_type": "code",
   "execution_count": 12,
   "metadata": {
    "id": "681a95mZnOSa"
   },
   "outputs": [],
   "source": [
    "import numpy as np\n",
    "import pandas as pd\n",
    "import networkx as nx\n",
    "import matplotlib.pyplot as plt\n",
    "import math\n",
    "import copy\n",
    "import time\n",
    "%matplotlib inline"
   ]
  },
  {
   "cell_type": "code",
   "execution_count": 13,
   "metadata": {},
   "outputs": [],
   "source": [
    "def read_matrix(filename):\n",
    "    my_file = open(filename, 'r', encoding = \"utf-8\")\n",
    "    matrix = []\n",
    "    for line in my_file:\n",
    "        node = line.split()\n",
    "        temp = []\n",
    "        for element in node:\n",
    "            temp.append(int(element))\n",
    "        matrix.append(temp)\n",
    "    my_file.close()\n",
    "    return matrix\n",
    "\n",
    " \n",
    "def create_graph(graph, matrix, way = [], node_color='grey',edge_color = 'grey', edge_text_pos = 0.5, node_size=2000, \n",
    "                 node_alpha=0.3,way_color = 'green', edge_alpha=0.3, edge_tickness=3, node_text_size=14, text_font='arial'):\n",
    "    \n",
    "    plt.figure(num=None, figsize=(13, 10), dpi=220)\n",
    "    matrix_size = len(matrix)\n",
    "    way_edge = []\n",
    "    for i in range(len(way) - 1):\n",
    "        way_edge.append((way[i], way[i + 1]))\n",
    "        \n",
    "    node_colors = []\n",
    "    for i in range(matrix_size):\n",
    "        graph.add_node(i + 1,pos = (i + 2,i * 2))\n",
    "        if i + 1 in way:\n",
    "            node_colors.append(way_color)\n",
    "        else:\n",
    "            node_colors.append(node_color)\n",
    "        \n",
    "    edges = []\n",
    "    sides = []\n",
    "    edge_colors = []\n",
    "    for i in range(matrix_size):\n",
    "        for j in range(matrix_size):\n",
    "            if matrix[i][j] != 0:\n",
    "                graph.add_edge(i + 1, j + 1, weight = matrix[i][j])\n",
    "                edges.append((i + 1, j + 1))\n",
    "                sides.append(matrix[i][j])\n",
    "                if (i + 1, j + 1) not in way_edge: edge_colors.append(edge_color)\n",
    "                else:\n",
    "                    edge_colors.append(way_color)\n",
    "   \n",
    "    # layout set\n",
    "    graph_pos = nx.circular_layout(graph)\n",
    "    # draw graph\n",
    "    nx.draw_networkx_nodes(graph,graph_pos,node_size=node_size, alpha=node_alpha, node_color=node_colors)\n",
    "    nx.draw_networkx_edges(graph,graph_pos,width=edge_tickness, alpha=edge_alpha,edge_color=edge_colors)\n",
    "    nx.draw_networkx_labels(graph, graph_pos,font_size=node_text_size, font_family=text_font)\n",
    "    \n",
    "    edge_labels = dict(zip(edges, sides))\n",
    "    nx.draw_networkx_edge_labels(graph, graph_pos, edge_labels=edge_labels, label_pos=edge_text_pos)\n",
    "\n",
    "    # show graph\n",
    "    plt.show()"
   ]
  },
  {
   "cell_type": "code",
   "execution_count": 14,
   "metadata": {},
   "outputs": [
    {
     "ename": "FileNotFoundError",
     "evalue": "[Errno 2] No such file or directory: 'src/lab_06_03_in.txt'",
     "output_type": "error",
     "traceback": [
      "\u001b[1;31m---------------------------------------------------------------------------\u001b[0m",
      "\u001b[1;31mFileNotFoundError\u001b[0m                         Traceback (most recent call last)",
      "Input \u001b[1;32mIn [14]\u001b[0m, in \u001b[0;36m<cell line: 2>\u001b[1;34m()\u001b[0m\n\u001b[0;32m      1\u001b[0m graph \u001b[38;5;241m=\u001b[39m nx\u001b[38;5;241m.\u001b[39mDiGraph()\n\u001b[1;32m----> 2\u001b[0m matrix \u001b[38;5;241m=\u001b[39m \u001b[43mread_matrix\u001b[49m\u001b[43m(\u001b[49m\u001b[38;5;124;43m'\u001b[39;49m\u001b[38;5;124;43msrc/lab_06_03_in.txt\u001b[39;49m\u001b[38;5;124;43m'\u001b[39;49m\u001b[43m)\u001b[49m\n\u001b[0;32m      3\u001b[0m create_graph(graph, matrix)\n\u001b[0;32m      5\u001b[0m labels \u001b[38;5;241m=\u001b[39m nx\u001b[38;5;241m.\u001b[39mget_edge_attributes(graph,\u001b[38;5;124m'\u001b[39m\u001b[38;5;124mweight\u001b[39m\u001b[38;5;124m'\u001b[39m)\n",
      "Input \u001b[1;32mIn [13]\u001b[0m, in \u001b[0;36mread_matrix\u001b[1;34m(filename)\u001b[0m\n\u001b[0;32m      1\u001b[0m \u001b[38;5;28;01mdef\u001b[39;00m \u001b[38;5;21mread_matrix\u001b[39m(filename):\n\u001b[1;32m----> 2\u001b[0m     my_file \u001b[38;5;241m=\u001b[39m \u001b[38;5;28;43mopen\u001b[39;49m\u001b[43m(\u001b[49m\u001b[43mfilename\u001b[49m\u001b[43m,\u001b[49m\u001b[43m \u001b[49m\u001b[38;5;124;43m'\u001b[39;49m\u001b[38;5;124;43mr\u001b[39;49m\u001b[38;5;124;43m'\u001b[39;49m\u001b[43m,\u001b[49m\u001b[43m \u001b[49m\u001b[43mencoding\u001b[49m\u001b[43m \u001b[49m\u001b[38;5;241;43m=\u001b[39;49m\u001b[43m \u001b[49m\u001b[38;5;124;43m\"\u001b[39;49m\u001b[38;5;124;43mutf-8\u001b[39;49m\u001b[38;5;124;43m\"\u001b[39;49m\u001b[43m)\u001b[49m\n\u001b[0;32m      3\u001b[0m     matrix \u001b[38;5;241m=\u001b[39m []\n\u001b[0;32m      4\u001b[0m     \u001b[38;5;28;01mfor\u001b[39;00m line \u001b[38;5;129;01min\u001b[39;00m my_file:\n",
      "\u001b[1;31mFileNotFoundError\u001b[0m: [Errno 2] No such file or directory: 'src/lab_06_03_in.txt'"
     ]
    }
   ],
   "source": [
    "graph = nx.DiGraph()\n",
    "matrix = read_matrix('graph.txt')\n",
    "create_graph(graph, matrix)\n",
    "\n",
    "labels = nx.get_edge_attributes(graph,'weight')\n",
    "nodes_len = len(graph.nodes)\n",
    "adj_matrix = np.array([[math.inf] * nodes_len] * nodes_len)\n",
    "for pos, length in labels.items():\n",
    "    adj_matrix[pos[0] - 1][pos[1] - 1] = length\n",
    "\n",
    "paths_search_time = dict()"
   ]
  },
  {
   "cell_type": "code",
   "execution_count": 15,
   "metadata": {},
   "outputs": [
    {
     "ename": "NameError",
     "evalue": "name 'matrix' is not defined",
     "output_type": "error",
     "traceback": [
      "\u001b[1;31m---------------------------------------------------------------------------\u001b[0m",
      "\u001b[1;31mNameError\u001b[0m                                 Traceback (most recent call last)",
      "Input \u001b[1;32mIn [15]\u001b[0m, in \u001b[0;36m<cell line: 29>\u001b[1;34m()\u001b[0m\n\u001b[0;32m     27\u001b[0m start \u001b[38;5;241m=\u001b[39m \u001b[38;5;241m1\u001b[39m\n\u001b[0;32m     28\u001b[0m end \u001b[38;5;241m=\u001b[39m \u001b[38;5;241m9\u001b[39m\n\u001b[1;32m---> 29\u001b[0m create_graph(graph, \u001b[43mmatrix\u001b[49m, way \u001b[38;5;241m=\u001b[39m floyd_warshall_path(copy\u001b[38;5;241m.\u001b[39mdeepcopy(adj_matrix), start, end))\n",
      "\u001b[1;31mNameError\u001b[0m: name 'matrix' is not defined"
     ]
    }
   ],
   "source": [
    "def fw_get_path(path, start, end):\n",
    "    way = [start]\n",
    "    while start != end:\n",
    "        start = path[start][end]\n",
    "        way.append(start)\n",
    "    for i in range(len(way)):\n",
    "        way[i] += 1\n",
    "    return way\n",
    "\n",
    "    \n",
    "def floyd_warshall_path(matrix, start, end):\n",
    "    start -= 1\n",
    "    end -= 1\n",
    "    for i in range(len(matrix)):\n",
    "        matrix[i][i] = 0\n",
    "   \n",
    "    path = [[v for v in range(len(matrix))] for u in range(len(matrix))]\n",
    "    for k in range(len(matrix)):                # k таблиц -в конце кратчайшие пути \n",
    "        for i in range(len(matrix)):\n",
    "            for j in range(len(matrix)):\n",
    "                if matrix[i][k] < math.inf and matrix[k][j] < math.inf and matrix[i][j] > matrix[i][k] + matrix[k][j]:\n",
    "                    matrix[i][j] = matrix[i][k] + matrix[k][j]\n",
    "                    path[i][j] = path[i][k]\n",
    "    \n",
    "    return fw_get_path(path,start,end)\n",
    "\n",
    "start = 1\n",
    "end = 9\n",
    "create_graph(graph, matrix, way = floyd_warshall_path(copy.deepcopy(adj_matrix), start, end))"
   ]
  },
  {
   "cell_type": "markdown",
   "metadata": {
    "id": "diOb-K7LnO5a"
   },
   "source": [
    "### Вывод"
   ]
  }
 ],
 "metadata": {
  "colab": {
   "name": "Lab6.ipynb",
   "provenance": []
  },
  "kernelspec": {
   "display_name": "Python 3 (ipykernel)",
   "language": "python",
   "name": "python3"
  },
  "language_info": {
   "codemirror_mode": {
    "name": "ipython",
    "version": 3
   },
   "file_extension": ".py",
   "mimetype": "text/x-python",
   "name": "python",
   "nbconvert_exporter": "python",
   "pygments_lexer": "ipython3",
   "version": "3.9.1"
  }
 },
 "nbformat": 4,
 "nbformat_minor": 4
}
